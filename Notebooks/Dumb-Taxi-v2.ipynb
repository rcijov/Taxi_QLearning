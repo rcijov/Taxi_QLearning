{
 "cells": [
  {
   "cell_type": "markdown",
   "metadata": {},
   "source": [
    "### Loading the environment\n",
    "\n",
    "https://gym.openai.com/envs/Taxi-v2/"
   ]
  },
  {
   "cell_type": "code",
   "execution_count": 1,
   "metadata": {
    "collapsed": true
   },
   "outputs": [],
   "source": [
    "import gym\n",
    "env = gym.make('Taxi-v2')"
   ]
  },
  {
   "cell_type": "markdown",
   "metadata": {},
   "source": [
    "### Initialization and rendering"
   ]
  },
  {
   "cell_type": "code",
   "execution_count": 4,
   "metadata": {
    "scrolled": true
   },
   "outputs": [
    {
     "name": "stdout",
     "output_type": "stream",
     "text": [
      "+---------+\n",
      "|\u001b[43mR\u001b[0m: | : :\u001b[34;1mG\u001b[0m|\n",
      "| : : : : |\n",
      "| : : : : |\n",
      "| | : | : |\n",
      "|Y| : |\u001b[35mB\u001b[0m: |\n",
      "+---------+\n",
      "\n"
     ]
    }
   ],
   "source": [
    "# Initialize the enviroment\n",
    "env.reset()\n",
    "\n",
    "env.render()"
   ]
  },
  {
   "cell_type": "markdown",
   "metadata": {},
   "source": [
    "### Making the dumb agent"
   ]
  },
  {
   "cell_type": "code",
   "execution_count": 5,
   "metadata": {},
   "outputs": [
    {
     "name": "stdout",
     "output_type": "stream",
     "text": [
      "+---------+\n",
      "|R: | : :\u001b[34;1mG\u001b[0m|\n",
      "| : : : : |\n",
      "| : : : : |\n",
      "| | : |\u001b[43m \u001b[0m: |\n",
      "|Y| : |\u001b[35mB\u001b[0m: |\n",
      "+---------+\n",
      "  (South)\n"
     ]
    }
   ],
   "source": [
    "import time\n",
    "from IPython.display import clear_output\n",
    "\n",
    "done = False\n",
    "\n",
    "while not done:\n",
    "    # pick a random action from the action space\n",
    "    some_action = env.action_space.sample()\n",
    "    \n",
    "    # execute the action\n",
    "    observation, reward, done, info = env.step(some_action)\n",
    "    \n",
    "    # render the environment frame\n",
    "    env.render()\n",
    "    \n",
    "    clear_output(wait=True)\n",
    "    \n",
    "    # pause for a while\n",
    "    time.sleep(0.01)"
   ]
  },
  {
   "cell_type": "markdown",
   "metadata": {},
   "source": [
    "### Measuring the performance"
   ]
  },
  {
   "cell_type": "code",
   "execution_count": 7,
   "metadata": {},
   "outputs": [
    {
     "name": "stdout",
     "output_type": "stream",
     "text": [
      "Average reward per move: -4.002746693794506\n",
      "Average time steps per episode: 196.6\n",
      "Average number of penalties per episode: 65.71\n"
     ]
    }
   ],
   "source": [
    "epochs, num_penalties, total_reward = 0, 0, 0\n",
    "\n",
    "num_episodes = 100\n",
    "current_episode = 0\n",
    "\n",
    "while current_episode < num_episodes:\n",
    "    reward = 0\n",
    "    done = False\n",
    "    \n",
    "    while not done:\n",
    "        # choose a random action!!\n",
    "        action = env.action_space.sample()\n",
    "        \n",
    "        # make the dumb move\n",
    "        state, reward, done, info = env.step(action)\n",
    "\n",
    "        if reward == -10:\n",
    "            num_penalties += 1\n",
    "\n",
    "        epochs += 1\n",
    "        total_reward += reward\n",
    "    \n",
    "    # episode over: Either the time was up or the passenger\n",
    "    # was dropped-off to the location successfully\n",
    "    current_episode += 1\n",
    "    env.reset()\n",
    "\n",
    "print(\"Average reward per move: {}\".format(total_reward/float(epochs)))\n",
    "print(\"Average time steps per episode: {}\".format(epochs/float(num_episodes)))\n",
    "print(\"Average number of penalties per episode: {}\".format(num_penalties/float(num_episodes)))"
   ]
  },
  {
   "cell_type": "code",
   "execution_count": null,
   "metadata": {
    "collapsed": true
   },
   "outputs": [],
   "source": []
  }
 ],
 "metadata": {
  "kernelspec": {
   "display_name": "packt_rl",
   "language": "python",
   "name": "packt_rl"
  },
  "language_info": {
   "codemirror_mode": {
    "name": "ipython",
    "version": 3
   },
   "file_extension": ".py",
   "mimetype": "text/x-python",
   "name": "python",
   "nbconvert_exporter": "python",
   "pygments_lexer": "ipython3",
   "version": "3.5.2"
  }
 },
 "nbformat": 4,
 "nbformat_minor": 2
}
