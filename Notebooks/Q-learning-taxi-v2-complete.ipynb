{
 "cells": [
  {
   "cell_type": "markdown",
   "metadata": {},
   "source": [
    "### Loading the environment\n",
    "\n",
    "https://gym.openai.com/envs/Taxi-v2/"
   ]
  },
  {
   "cell_type": "code",
   "execution_count": 30,
   "metadata": {
    "collapsed": true
   },
   "outputs": [],
   "source": [
    "import gym\n",
    "env = gym.make('Taxi-v2')"
   ]
  },
  {
   "cell_type": "markdown",
   "metadata": {},
   "source": [
    "### Initialization and rendering"
   ]
  },
  {
   "cell_type": "code",
   "execution_count": 31,
   "metadata": {},
   "outputs": [
    {
     "name": "stdout",
     "output_type": "stream",
     "text": [
      "Decoded state [3, 4, 1, 2]\n",
      "+---------+\n",
      "|R: | : :\u001b[34;1mG\u001b[0m|\n",
      "| : : : : |\n",
      "| : : : : |\n",
      "| | : | :\u001b[43m \u001b[0m|\n",
      "|\u001b[35mY\u001b[0m| : |B: |\n",
      "+---------+\n",
      "\n"
     ]
    }
   ],
   "source": [
    "initial_state = env.reset()\n",
    "\n",
    "# (taxi row, taxi column, passenger index, destination index)\n",
    "print(\"Decoded state\", list(env.env.decode(initial_state)))\n",
    "\n",
    "env.render()"
   ]
  },
  {
   "cell_type": "markdown",
   "metadata": {},
   "source": [
    "### Q-learning Hyperparameters"
   ]
  },
  {
   "cell_type": "code",
   "execution_count": 32,
   "metadata": {
    "collapsed": true
   },
   "outputs": [],
   "source": [
    "alpha = 0.1\n",
    "gamma = 0.6\n",
    "epsilon = 0.8"
   ]
  },
  {
   "cell_type": "markdown",
   "metadata": {},
   "source": [
    "### Initializing the Q-table"
   ]
  },
  {
   "cell_type": "code",
   "execution_count": 33,
   "metadata": {
    "collapsed": true
   },
   "outputs": [],
   "source": [
    "import numpy as np\n",
    "from collections import defaultdict\n",
    "\n",
    "# Ideally, the size of Q-table is state_space_size x action_space_size\n",
    "q_table = np.zeros([env.observation_space.n, env.action_space.n])"
   ]
  },
  {
   "cell_type": "markdown",
   "metadata": {},
   "source": [
    "### Updating the Q-values after every epoch\n",
    "\n",
    "![https://s31.postimg.cc/tmim26kqx/q_learning_equation.png](https://s31.postimg.cc/tmim26kqx/q_learning_equation.png?dl=1)"
   ]
  },
  {
   "cell_type": "code",
   "execution_count": 34,
   "metadata": {
    "collapsed": true
   },
   "outputs": [],
   "source": [
    "def q_learning_update(q_table, env, state, epsilon):\n",
    "    \"\"\"\n",
    "    Updates the Q-values according to the Q-learning equation.\n",
    "    \"\"\"\n",
    "    if random.uniform(0, 1) > epsilon:\n",
    "        action = env.action_space.sample() # select a random action\n",
    "    else:\n",
    "        action = select_optimal_action(q_table, state) # select an optimal action\n",
    "    \n",
    "    next_state, reward, done, _ = env.step(action)\n",
    "    old_q_value = q_table[state][action]\n",
    "\n",
    "\n",
    "    # Maximum q_value for the actions in next state\n",
    "    next_max = np.max(q_table[next_state])\n",
    "\n",
    "    new_q_value = (1 - alpha) * old_q_value + alpha * (reward + gamma * next_max)\n",
    "\n",
    "    # Update the q_value\n",
    "    q_table[state][action] = new_q_value\n",
    "\n",
    "    return next_state, reward, done"
   ]
  },
  {
   "cell_type": "code",
   "execution_count": 35,
   "metadata": {
    "collapsed": true
   },
   "outputs": [],
   "source": [
    "import random\n",
    "\n",
    "def select_optimal_action(q_table, state):\n",
    "    \"\"\"\n",
    "    Given a state, select the action from the action space having the\n",
    "    highest Q-value in the q_table.\n",
    "    \"\"\"\n",
    "    if np.sum(q_table[state]) == 0:\n",
    "        return random.randint(0, q_table.shape[1]-1)\n",
    "    \n",
    "    return np.argmax(q_table[state])"
   ]
  },
  {
   "cell_type": "code",
   "execution_count": 39,
   "metadata": {
    "collapsed": true
   },
   "outputs": [],
   "source": [
    "def train_agent(q_table, env, num_episodes, epsilon):\n",
    "    for i in range(num_episodes):\n",
    "        state = env.reset()\n",
    "\n",
    "        done = False\n",
    "        while not done:\n",
    "            state, reward, done = q_learning_update(q_table, env, state, epsilon)\n",
    "    \n",
    "    return q_table"
   ]
  },
  {
   "cell_type": "markdown",
   "metadata": {},
   "source": [
    "### Evaluating our agent by \"exploition\" of q-table"
   ]
  },
  {
   "cell_type": "code",
   "execution_count": 37,
   "metadata": {
    "collapsed": true
   },
   "outputs": [],
   "source": [
    "def run_trials(q_table, env, num_trials):\n",
    "    data_by_episode = []\n",
    "\n",
    "    for i in range(num_trials):\n",
    "        state = env.reset()\n",
    "        epochs, num_penalties, episode_reward = 0, 0, 0\n",
    "        \n",
    "        done = False\n",
    "        while not done:\n",
    "            next_action = select_optimal_action(q_table, state)\n",
    "            state, reward, done, _ = env.step(next_action)\n",
    "\n",
    "            if reward == -10:\n",
    "                num_penalties += 1\n",
    "\n",
    "            epochs += 1\n",
    "            episode_reward += reward\n",
    "        \n",
    "        data_by_episode.append((epochs, num_penalties, episode_reward))\n",
    "    \n",
    "    return data_by_episode"
   ]
  },
  {
   "cell_type": "markdown",
   "metadata": {},
   "source": [
    "### Calculating performance metrics"
   ]
  },
  {
   "cell_type": "code",
   "execution_count": 38,
   "metadata": {
    "collapsed": true
   },
   "outputs": [],
   "source": [
    "def calculate_stats(trial_data):\n",
    "    epochs, penalties, rewards = zip(*trial_data)\n",
    "    total_epochs, total_penalties, total_reward = sum(epochs), sum(penalties), sum(rewards)\n",
    "    num_trials = len(epochs)\n",
    "    average_time = total_epochs / float(num_trials)\n",
    "    average_penalties = total_penalties / float(num_trials)\n",
    "    average_reward_per_move = total_reward/float(total_epochs)\n",
    "    \n",
    "    return (average_time, average_penalties, average_reward_per_move)"
   ]
  },
  {
   "cell_type": "markdown",
   "metadata": {},
   "source": [
    "### Let's begin the training"
   ]
  },
  {
   "cell_type": "code",
   "execution_count": 40,
   "metadata": {
    "scrolled": true
   },
   "outputs": [
    {
     "name": "stdout",
     "output_type": "stream",
     "text": [
      "Average time steps taken: 11.66\n",
      "Average number of penalties incurred: 0.0\n",
      "Average reward per move: 0.8010291595197255\n"
     ]
    }
   ],
   "source": [
    "data_to_plot = []\n",
    "train_episodes_before_eval = 100\n",
    "num_episodes_for_eval = 50\n",
    "\n",
    "while True:\n",
    "    q_table = train_agent(q_table, env, train_episodes_before_eval, epsilon=epsilon)\n",
    "    trial_data = run_trials(q_table, env, num_episodes_for_eval)\n",
    "    \n",
    "    average_time, average_penalties, average_reward_per_move = calculate_stats(trial_data)\n",
    "    \n",
    "    data_to_plot.append((average_time, average_penalties, average_reward_per_move))\n",
    "    \n",
    "    if average_penalties == 0 and average_reward_per_move > 0.8:\n",
    "        print(\"Average time steps taken: {}\".format(average_time))\n",
    "        print(\"Average number of penalties incurred: {}\".format(average_penalties))\n",
    "        print(\"Average reward per move: {}\".format(average_reward_per_move))\n",
    "        break"
   ]
  },
  {
   "cell_type": "code",
   "execution_count": 42,
   "metadata": {},
   "outputs": [
    {
     "name": "stdout",
     "output_type": "stream",
     "text": [
      "Requirement already satisfied: matplotlib in ./venv/lib/python3.5/site-packages (2.2.2)\n",
      "Requirement already satisfied: pytz in ./venv/lib/python3.5/site-packages (from matplotlib) (2018.4)\n",
      "Requirement already satisfied: kiwisolver>=1.0.1 in ./venv/lib/python3.5/site-packages (from matplotlib) (1.0.1)\n",
      "Requirement already satisfied: numpy>=1.7.1 in ./venv/lib/python3.5/site-packages (from matplotlib) (1.14.5)\n",
      "Requirement already satisfied: six>=1.10 in ./venv/lib/python3.5/site-packages (from matplotlib) (1.11.0)\n",
      "Requirement already satisfied: python-dateutil>=2.1 in ./venv/lib/python3.5/site-packages (from matplotlib) (2.7.3)\n",
      "Requirement already satisfied: pyparsing!=2.0.4,!=2.1.2,!=2.1.6,>=2.0.1 in ./venv/lib/python3.5/site-packages (from matplotlib) (2.2.0)\n",
      "Requirement already satisfied: cycler>=0.10 in ./venv/lib/python3.5/site-packages (from matplotlib) (0.10.0)\n",
      "Requirement already satisfied: setuptools in ./venv/lib/python3.5/site-packages (from kiwisolver>=1.0.1->matplotlib) (39.2.0)\n"
     ]
    }
   ],
   "source": [
    "!pip install matplotlib"
   ]
  },
  {
   "cell_type": "code",
   "execution_count": 43,
   "metadata": {},
   "outputs": [
    {
     "data": {
      "text/plain": [
       "[0,\n",
       " 100,\n",
       " 200,\n",
       " 300,\n",
       " 400,\n",
       " 500,\n",
       " 600,\n",
       " 700,\n",
       " 800,\n",
       " 900,\n",
       " 1000,\n",
       " 1100,\n",
       " 1200,\n",
       " 1300,\n",
       " 1400,\n",
       " 1500,\n",
       " 1600,\n",
       " 1700,\n",
       " 1800,\n",
       " 1900,\n",
       " 2000,\n",
       " 2100,\n",
       " 2200,\n",
       " 2300,\n",
       " 2400,\n",
       " 2500,\n",
       " 2600,\n",
       " 2700,\n",
       " 2800,\n",
       " 2900,\n",
       " 3000,\n",
       " 3100,\n",
       " 3200,\n",
       " 3300,\n",
       " 3400,\n",
       " 3500,\n",
       " 3600,\n",
       " 3700,\n",
       " 3800,\n",
       " 3900,\n",
       " 4000,\n",
       " 4100,\n",
       " 4200,\n",
       " 4300,\n",
       " 4400,\n",
       " 4500,\n",
       " 4600,\n",
       " 4700,\n",
       " 4800,\n",
       " 4900,\n",
       " 5000,\n",
       " 5100,\n",
       " 5200,\n",
       " 5300,\n",
       " 5400,\n",
       " 5500,\n",
       " 5600,\n",
       " 5700,\n",
       " 5800,\n",
       " 5900,\n",
       " 6000,\n",
       " 6100,\n",
       " 6200,\n",
       " 6300,\n",
       " 6400,\n",
       " 6500,\n",
       " 6600,\n",
       " 6700,\n",
       " 6800,\n",
       " 6900,\n",
       " 7000,\n",
       " 7100,\n",
       " 7200,\n",
       " 7300,\n",
       " 7400,\n",
       " 7500,\n",
       " 7600,\n",
       " 7700,\n",
       " 7800,\n",
       " 7900,\n",
       " 8000,\n",
       " 8100,\n",
       " 8200,\n",
       " 8300,\n",
       " 8400,\n",
       " 8500,\n",
       " 8600,\n",
       " 8700,\n",
       " 8800,\n",
       " 8900,\n",
       " 9000,\n",
       " 9100,\n",
       " 9200,\n",
       " 9300,\n",
       " 9400,\n",
       " 9500,\n",
       " 9600,\n",
       " 9700,\n",
       " 9800,\n",
       " 9900,\n",
       " 10000,\n",
       " 10100,\n",
       " 10200,\n",
       " 10300,\n",
       " 10400,\n",
       " 10500,\n",
       " 10600,\n",
       " 10700,\n",
       " 10800,\n",
       " 10900,\n",
       " 11000,\n",
       " 11100,\n",
       " 11200,\n",
       " 11300,\n",
       " 11400,\n",
       " 11500,\n",
       " 11600,\n",
       " 11700,\n",
       " 11800,\n",
       " 11900,\n",
       " 12000,\n",
       " 12100,\n",
       " 12200,\n",
       " 12300,\n",
       " 12400,\n",
       " 12500,\n",
       " 12600,\n",
       " 12700,\n",
       " 12800,\n",
       " 12900,\n",
       " 13000,\n",
       " 13100,\n",
       " 13200,\n",
       " 13300,\n",
       " 13400,\n",
       " 13500,\n",
       " 13600,\n",
       " 13700,\n",
       " 13800,\n",
       " 13900,\n",
       " 14000,\n",
       " 14100,\n",
       " 14200,\n",
       " 14300,\n",
       " 14400,\n",
       " 14500,\n",
       " 14600,\n",
       " 14700,\n",
       " 14800,\n",
       " 14900,\n",
       " 15000,\n",
       " 15100,\n",
       " 15200,\n",
       " 15300,\n",
       " 15400,\n",
       " 15500,\n",
       " 15600,\n",
       " 15700,\n",
       " 15800,\n",
       " 15900,\n",
       " 16000,\n",
       " 16100,\n",
       " 16200,\n",
       " 16300,\n",
       " 16400,\n",
       " 16500,\n",
       " 16600,\n",
       " 16700,\n",
       " 16800,\n",
       " 16900,\n",
       " 17000,\n",
       " 17100,\n",
       " 17200,\n",
       " 17300,\n",
       " 17400,\n",
       " 17500,\n",
       " 17600,\n",
       " 17700,\n",
       " 17800,\n",
       " 17900,\n",
       " 18000,\n",
       " 18100,\n",
       " 18200,\n",
       " 18300]"
      ]
     },
     "execution_count": 43,
     "metadata": {},
     "output_type": "execute_result"
    }
   ],
   "source": [
    "%matplotlib inline\n",
    "import matplotlib.pyplot as plt\n",
    "\n",
    "time_steps_by_evals = [data[0] for data in data_to_plot]\n",
    "penalties_by_evals = [data[1] for data in data_to_plot]\n",
    "rewards_by_evals =  [data[2] for data in data_to_plot]\n",
    "\n",
    "episode_counts = [i*train_episodes_before_eval for i in range(len(data_to_plot))]\n",
    "episode_counts"
   ]
  },
  {
   "cell_type": "code",
   "execution_count": 45,
   "metadata": {},
   "outputs": [
    {
     "data": {
      "text/plain": [
       "Text(0,0.5,'Average rewards per move')"
      ]
     },
     "execution_count": 45,
     "metadata": {},
     "output_type": "execute_result"
    },
    {
     "data": {
      "image/png": "[encoded data removed]",
      "text/plain": [
       "<Figure size 432x288 with 1 Axes>"
      ]
     },
     "metadata": {},
     "output_type": "display_data"
    }
   ],
   "source": [
    "plt.plot(episode_counts, rewards_by_evals)\n",
    "plt.xlabel(\"Number of Episodes\")\n",
    "plt.ylabel(\"Average rewards per move\")"
   ]
  },
  {
   "cell_type": "code",
   "execution_count": 46,
   "metadata": {},
   "outputs": [
    {
     "data": {
      "text/plain": [
       "Text(0,0.5,'Time steps to finish episode')"
      ]
     },
     "execution_count": 46,
     "metadata": {},
     "output_type": "execute_result"
    },
    {
     "data": {
      "image/png": "[encoded data removed]",
      "text/plain": [
       "<Figure size 432x288 with 1 Axes>"
      ]
     },
     "metadata": {},
     "output_type": "display_data"
    }
   ],
   "source": [
    "plt.plot(episode_counts, time_steps_by_evals)\n",
    "plt.xlabel(\"Number of Episodes\")\n",
    "plt.ylabel(\"Time steps to finish episode\")"
   ]
  },
  {
   "cell_type": "markdown",
   "metadata": {},
   "source": [
    "### Saving the Q-table"
   ]
  },
  {
   "cell_type": "code",
   "execution_count": 47,
   "metadata": {
    "collapsed": true
   },
   "outputs": [],
   "source": [
    "with open(\"q_table.save\", \"wb\") as f:\n",
    "    np.save(f, q_table)"
   ]
  },
  {
   "cell_type": "markdown",
   "metadata": {},
   "source": [
    "### Loading the Q-table"
   ]
  },
  {
   "cell_type": "code",
   "execution_count": 48,
   "metadata": {},
   "outputs": [
    {
     "data": {
      "text/plain": [
       "(500, 6)"
      ]
     },
     "execution_count": 48,
     "metadata": {},
     "output_type": "execute_result"
    }
   ],
   "source": [
    "data = None\n",
    "with open(\"q_table.save\", \"rb\") as f:\n",
    "    data = np.load(f)\n",
    "\n",
    "data.shape"
   ]
  },
  {
   "cell_type": "code",
   "execution_count": null,
   "metadata": {
    "collapsed": true
   },
   "outputs": [],
   "source": []
  }
 ],
 "metadata": {
  "kernelspec": {
   "display_name": "packt_rl",
   "language": "python",
   "name": "packt_rl"
  },
  "language_info": {
   "codemirror_mode": {
    "name": "ipython",
    "version": 3
   },
   "file_extension": ".py",
   "mimetype": "text/x-python",
   "name": "python",
   "nbconvert_exporter": "python",
   "pygments_lexer": "ipython3",
   "version": "3.5.2"
  }
 },
 "nbformat": 4,
 "nbformat_minor": 2
}
